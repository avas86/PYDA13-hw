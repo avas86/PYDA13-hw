{
 "cells": [
  {
   "cell_type": "markdown",
   "metadata": {},
   "source": [
    "# Задание 1"
   ]
  },
  {
   "cell_type": "code",
   "execution_count": 18,
   "metadata": {},
   "outputs": [],
   "source": [
    "phrase_1 = 'Насколько проще было бы писать программы, если бы не заказчики'\n",
    "phrase_2 = '640Кб должно хватить для любых задач. Билл Гейтс (по легенде)'"
   ]
  },
  {
   "cell_type": "code",
   "execution_count": 19,
   "metadata": {},
   "outputs": [
    {
     "name": "stdout",
     "output_type": "stream",
     "text": [
      "Фраза 2 длиннее фразы 1\n"
     ]
    }
   ],
   "source": [
    "if len(phrase_1) > len(phrase_2):\n",
    "    print('Фраза 1 длиннее фразы 2')\n",
    "elif len(phrase_1) == len(phrase_2):\n",
    "    print('Фразы равны')\n",
    "else:\n",
    "    print('Фраза 2 длиннее фразы 1')"
   ]
  },
  {
   "cell_type": "markdown",
   "metadata": {},
   "source": [
    "# Задание 2"
   ]
  },
  {
   "cell_type": "code",
   "execution_count": 25,
   "metadata": {},
   "outputs": [
    {
     "name": "stdout",
     "output_type": "stream",
     "text": [
      "Год високосный\n"
     ]
    }
   ],
   "source": [
    "year = 2012\n",
    "if year % 4 == 0:\n",
    "    print('Год високосный')\n",
    "else:\n",
    "    print('Обычный год')"
   ]
  },
  {
   "cell_type": "markdown",
   "metadata": {},
   "source": [
    "# Задание 3"
   ]
  },
  {
   "cell_type": "code",
   "execution_count": 44,
   "metadata": {},
   "outputs": [
    {
     "name": "stdout",
     "output_type": "stream",
     "text": [
      "Введите день рождения: 18\n",
      "Введите месяц рождения: Март\n",
      "Ваш знак зодиака Рыбы\n"
     ]
    }
   ],
   "source": [
    "day = int(input('Введите день рождения: '))\n",
    "month = str(input('Введите месяц рождения: '))\n",
    "\n",
    "if (month == 'Март' and 21 <= day <= 31) or (month == 'Апрель' and 1 <= day <= 20):\n",
    "    print('Ваш знак зодиака: Овен')\n",
    "elif (month == 'Апрель' and 21 <= day <= 30) or (month == 'Май' and 1 <= day <= 21):\n",
    "    print('Ваш знак зодиака: Телец') \n",
    "elif (month == 'Май' and 22 <= day <= 31) or (month == 'Июнь' and 1 <= day <= 21):\n",
    "    print('Ваш знак зодиака: Близнецы')\n",
    "elif (month == 'Июнь' and 22 <= day <= 30) or (month == 'Июль' and 1 <= day <= 22):\n",
    "    print('Ваш знак зодиака: Рак')\n",
    "elif (month == 'Июль' and 23 <= day <= 31) or (month == 'Август' and 1 <= day <= 23):\n",
    "    print('Ваш знак зодиака: Лев')\n",
    "elif (month == 'Август' and 24 <= day <= 31) or (month == 'Сентябрь' and 1 <= day <= 22):\n",
    "    print('Ваш знак зодиака: Дева')\n",
    "elif (month == 'Сентябрь' and 23 <= day <= 30) or (month == 'Октябрь' and 1 <= day <= 22):\n",
    "    print('Ваш знак зодиака: Весы')\n",
    "elif (month == 'Октябрь' and 23 <= day <= 31) or (month == 'Ноябрь' and 1 <= day <= 21):\n",
    "    print('Ваш знак зодиака: Скорпион')\n",
    "elif (month == 'Ноябрь' and 22 <= day <= 30) or (month == 'Декабрь' and 1 <= day <= 21):\n",
    "    print('Ваш знак зодиака: Стрелец')\n",
    "elif (month == 'Декабрь' and 22 <= day <= 31) or (month == 'Январь' and 1 <= day <= 20):\n",
    "    print('Ваш знак зодиака: Стрелец')\n",
    "elif (month == 'Январь' and 21 <= day <= 31) or (month == 'Февраль' and 1 <= day <= 19):\n",
    "    print('Ваш знак зодиака: Водолей')\n",
    "else:\n",
    "    print('Ваш знак зодиака Рыбы')\n",
    "    "
   ]
  },
  {
   "cell_type": "code",
   "execution_count": 29,
   "metadata": {},
   "outputs": [
    {
     "data": {
      "text/plain": [
       "15"
      ]
     },
     "execution_count": 29,
     "metadata": {},
     "output_type": "execute_result"
    }
   ],
   "source": [
    "day"
   ]
  },
  {
   "cell_type": "markdown",
   "metadata": {},
   "source": [
    "# Задание 4"
   ]
  },
  {
   "cell_type": "code",
   "execution_count": 70,
   "metadata": {},
   "outputs": [
    {
     "name": "stdout",
     "output_type": "stream",
     "text": [
      "Коробка №2\n"
     ]
    }
   ],
   "source": [
    "width = 15\n",
    "length = 49\n",
    "height = 15\n",
    "if (width < 15 and length < 15 and height < 15):\n",
    "    print('Коробка №1')\n",
    "elif (width >= 15 and length >= 15 and height >= 15) and (width < 50 and length < 50 and height < 50):\n",
    "    print('Коробка №2')\n",
    "elif (width > 0 and length > 200 and height > 0):\n",
    "    print('Упаковка для лыж')\n",
    "else:\n",
    "    print('Стандартная коробка №3')"
   ]
  },
  {
   "cell_type": "markdown",
   "metadata": {},
   "source": [
    "# Задание 5"
   ]
  },
  {
   "cell_type": "code",
   "execution_count": 125,
   "metadata": {},
   "outputs": [
    {
     "name": "stdout",
     "output_type": "stream",
     "text": [
      "178500\n",
      "Обычный билет\n"
     ]
    }
   ],
   "source": [
    "number = int(input())\n",
    "n1 = number//100000\n",
    "n2 = number//10000%10\n",
    "n3 = number//1000%10\n",
    "n4 = number//100%10\n",
    "n5 = number//10%10\n",
    "n6 = number%10\n",
    "\n",
    "if (n1+n2+n3)==(n4+n5+n6):\n",
    "    print('Cчастливый билет')\n",
    "else: \n",
    "    print('Обычный билет')"
   ]
  },
  {
   "cell_type": "markdown",
   "metadata": {},
   "source": [
    "# Задание 6"
   ]
  },
  {
   "cell_type": "code",
   "execution_count": 17,
   "metadata": {},
   "outputs": [
    {
     "name": "stdout",
     "output_type": "stream",
     "text": [
      "Введите тип фигуры: треугольник\n",
      "Введите длину стороны A: 55\n",
      "Введите длину стороны B: 30\n",
      "Введите длину стороны C: 88\n",
      "Площадь равна: (1.0493740455428244e-12+17137.578708790807j)\n"
     ]
    }
   ],
   "source": [
    "p = int(1/2*(a + b + c))\n",
    "figure = str(input('Введите тип фигуры: '))\n",
    "if figure == 'круг':\n",
    "    x = int(input('Введите радиус круга: '))\n",
    "    print('Площадь равна:', 3.1415926535 * x ** 2)\n",
    "elif figure == 'треугольник':\n",
    "    a = int(input('Введите длину стороны A: '))\n",
    "    b = int(input('Введите длину стороны B: '))\n",
    "    c = int(input('Введите длину стороны C: '))\n",
    "    print(f'Площадь равна:', p*(p-a)*(p-b)*(p-c)**0.5)\n",
    "elif figure == 'квадрат':\n",
    "    a1 = int(input('Введите длину стороны A: '))\n",
    "    print('Площадь равна:', a1 ** 2)\n",
    "else:\n",
    "    print('вы ввели некорректный тип фигуры')"
   ]
  },
  {
   "cell_type": "code",
   "execution_count": null,
   "metadata": {},
   "outputs": [],
   "source": []
  },
  {
   "cell_type": "code",
   "execution_count": null,
   "metadata": {},
   "outputs": [],
   "source": []
  },
  {
   "cell_type": "code",
   "execution_count": null,
   "metadata": {},
   "outputs": [],
   "source": []
  }
 ],
 "metadata": {
  "kernelspec": {
   "display_name": "Python 3",
   "language": "python",
   "name": "python3"
  },
  "language_info": {
   "codemirror_mode": {
    "name": "ipython",
    "version": 3
   },
   "file_extension": ".py",
   "mimetype": "text/x-python",
   "name": "python",
   "nbconvert_exporter": "python",
   "pygments_lexer": "ipython3",
   "version": "3.7.6"
  }
 },
 "nbformat": 4,
 "nbformat_minor": 4
}
