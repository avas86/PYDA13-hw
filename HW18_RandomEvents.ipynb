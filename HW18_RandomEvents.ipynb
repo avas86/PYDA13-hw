{
 "cells": [
  {
   "cell_type": "markdown",
   "metadata": {},
   "source": [
    "### Случайные события. Случайные величины.\n",
    "http://prntscr.com/uh35yg\n",
    "\n",
    "Смоделировать игру против лотерейного автомата типа “777”. Игрок платит 1 руб., после чего выпадает случайное целое число, равномерно распределенное от 0 до 999. При некоторых значениях числа игрок получает выигрыш (см. справа)\n",
    "\n",
    "Выгодна ли игра игроку?\n",
    "\n",
    "Сколько в среднем приобретает или теряет игрок за одну игру?\n",
    "\n",
    "777: 200 руб.; 999: 100 руб.; 555: 50 руб.; 333: 15 руб.; 111: 10 руб.; x77: 5 руб.; xx7: 3 руб.; x00: 2 руб.; xx0: 1 руб.\n",
    "\n",
    "Дополнительное задание повышенной сложности. Теоретически рассчитать средний выигрыш (проигрыш) и сравнить с результатами моделирования"
   ]
  },
  {
   "cell_type": "code",
   "execution_count": 8,
   "metadata": {},
   "outputs": [],
   "source": [
    "import numpy as np\n",
    "import re"
   ]
  },
  {
   "cell_type": "code",
   "execution_count": 15,
   "metadata": {},
   "outputs": [
    {
     "name": "stdout",
     "output_type": "stream",
     "text": [
      "На 1000000 попыток, вероятность успеха по Монте-Карло 0.200128, выигрыш: 430186 р., выигрыш от одной игры: 0.430186 р., неудачных попыток 799872\n"
     ]
    }
   ],
   "source": [
    "attempt = 1000000    # Количество попыток\n",
    "successes = 0    # Количество успехов\n",
    "cash = 0\n",
    "fails = 0\n",
    "\n",
    "for i in range(attempt):\n",
    "    digit_ = str(np.random.randint(0, 1000)).zfill(3)\n",
    "    if digit_ == 777:\n",
    "        cash += 200\n",
    "        successes += 1\n",
    "    elif digit_ == 999:\n",
    "        cash += 100\n",
    "        successes += 1\n",
    "    elif digit_ == 555:\n",
    "        cash += 50\n",
    "        successes += 1\n",
    "    elif digit_ == 333:\n",
    "        cash += 15\n",
    "        successes += 1\n",
    "    elif digit_ == 111:\n",
    "        cash += 10\n",
    "        successes += 1\n",
    "    elif re.match(r'\\d77', digit_):\n",
    "        cash += 5\n",
    "        successes += 1\n",
    "    elif re.match(r'\\d{2}7', digit_):\n",
    "        cash += 3\n",
    "        successes += 1\n",
    "    elif re.match(r'\\d00', digit_):\n",
    "        cash += 2\n",
    "        successes += 1\n",
    "    elif re.match(r'\\d{2}0', digit_):\n",
    "        cash += 1\n",
    "        successes += 1\n",
    "    else:\n",
    "        fails += 1\n",
    "print(f'На {attempt} попыток, вероятность успеха по Монте-Карло {successes / attempt}, выигрыш: {cash} р., выигрыш от одной игры: {cash/attempt} р., неудачных попыток {fails}')"
   ]
  },
  {
   "cell_type": "code",
   "execution_count": null,
   "metadata": {},
   "outputs": [],
   "source": []
  }
 ],
 "metadata": {
  "kernelspec": {
   "display_name": "Python 3",
   "language": "python",
   "name": "python3"
  },
  "language_info": {
   "codemirror_mode": {
    "name": "ipython",
    "version": 3
   },
   "file_extension": ".py",
   "mimetype": "text/x-python",
   "name": "python",
   "nbconvert_exporter": "python",
   "pygments_lexer": "ipython3",
   "version": "3.8.5"
  }
 },
 "nbformat": 4,
 "nbformat_minor": 4
}
