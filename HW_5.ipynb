{
 "cells": [
  {
   "cell_type": "code",
   "execution_count": 1,
   "metadata": {},
   "outputs": [],
   "source": [
    "import json"
   ]
  },
  {
   "cell_type": "code",
   "execution_count": 2,
   "metadata": {},
   "outputs": [],
   "source": [
    "i = 0\n",
    "purchases = {}\n",
    "with open('purchase_log.txt', 'r', encoding='utf-8') as f:\n",
    "    f.readline()\n",
    "    for line in f:\n",
    "        line = line.strip()\n",
    "        line = json.loads(line)\n",
    "        purchase = {line['user_id'] : line['category']}\n",
    "        purchases.update(purchase)\n",
    "        i += 1\n",
    "#         if i > 5:\n",
    "#             break\n",
    "# print(purchases)        "
   ]
  },
  {
   "cell_type": "code",
   "execution_count": 3,
   "metadata": {},
   "outputs": [
    {
     "name": "stdout",
     "output_type": "stream",
     "text": [
      "99517\n",
      "<class 'dict'>\n",
      "[('1840e0b9d4', 'Продукты'), ('4e4f90fcfb', 'Электроника'), ('afea8d72fc', 'Электроника'), ('373a6055fe', 'Бытовая техника'), ('9b2ab046f3', 'Электроника')]\n"
     ]
    }
   ],
   "source": [
    "print(len(purchases))\n",
    "print(type(purchases))\n",
    "print(list(purchases.items())[:5])"
   ]
  },
  {
   "cell_type": "code",
   "execution_count": 5,
   "metadata": {},
   "outputs": [
    {
     "name": "stdout",
     "output_type": "stream",
     "text": [
      "13798\n"
     ]
    }
   ],
   "source": [
    "i = 0\n",
    "with open('visit_log.csv', 'r', encoding = 'utf-8') as visit:\n",
    "    with open('funnel.csv', 'w', encoding = 'windows-1251') as v_write:\n",
    "        v_write.write('user_id, source, category\\n')\n",
    "        for line in visit:\n",
    "            line = line.strip().split(',')\n",
    "            if line[0] in purchases.keys():\n",
    "                v_write.write(f'{line[0]},{line[1]},{purchases[line[0]]}\\n')\n",
    "                i += 1\n",
    "#                 if i > 5:\n",
    "#                     break\n",
    "print(i)"
   ]
  },
  {
   "cell_type": "code",
   "execution_count": null,
   "metadata": {},
   "outputs": [],
   "source": []
  }
 ],
 "metadata": {
  "kernelspec": {
   "display_name": "Python 3",
   "language": "python",
   "name": "python3"
  },
  "language_info": {
   "codemirror_mode": {
    "name": "ipython",
    "version": 3
   },
   "file_extension": ".py",
   "mimetype": "text/x-python",
   "name": "python",
   "nbconvert_exporter": "python",
   "pygments_lexer": "ipython3",
   "version": "3.7.6"
  }
 },
 "nbformat": 4,
 "nbformat_minor": 4
}
