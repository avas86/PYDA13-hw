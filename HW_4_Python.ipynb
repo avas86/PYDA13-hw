{
 "cells": [
  {
   "cell_type": "code",
   "execution_count": 2,
   "metadata": {},
   "outputs": [],
   "source": [
    "documents = [\n",
    " {'type': 'passport', 'number': '2207 876234', 'name': 'Василий Гупкин'},\n",
    " {'type': 'invoice', 'number': '11-2', 'name': 'Геннадий Покемонов'},\n",
    " {'type': 'insurance', 'number': '10006', 'name': 'Аристарх Павлов'}\n",
    "]\n",
    "\n",
    "directories = {\n",
    " '1': ['2207 876234', '11-2'],\n",
    " '2': ['10006'],\n",
    " '3': []\n",
    "}"
   ]
  },
  {
   "cell_type": "markdown",
   "metadata": {},
   "source": [
    "## Задание 1"
   ]
  },
  {
   "cell_type": "code",
   "execution_count": null,
   "metadata": {},
   "outputs": [],
   "source": [
    "def find_author():\n",
    "    docs_num = input('Введите номер документа: ')\n",
    "    find = False\n",
    "    for data in documents:\n",
    "            if docs_num == data['number']:\n",
    "                find = True\n",
    "                name = data['name']\n",
    "                print(f'Результат: \\nВладелец документа: {\"\".join(name)}')\n",
    "    if not find:\n",
    "        print('Документ не найден в базе')"
   ]
  },
  {
   "cell_type": "code",
   "execution_count": 26,
   "metadata": {},
   "outputs": [],
   "source": [
    "def find_shelf():\n",
    "    docs_num = input('Введите номер документа: ')\n",
    "    find = False\n",
    "    for s, d in directories.items():\n",
    "        if docs_num in d:\n",
    "            find = True\n",
    "            shelf = s\n",
    "            print(f'Результат: \\nДокумент хранится на полке: {shelf}')   \n",
    "    if not find:\n",
    "        print(f'Результат: \\nДокумент не найден в базе')"
   ]
  },
  {
   "cell_type": "code",
   "execution_count": 6,
   "metadata": {},
   "outputs": [],
   "source": [
    "def all_inf():\n",
    "    shelf = []\n",
    "    for data in documents:\n",
    "        num = data['number']\n",
    "        type_doc = data['type']\n",
    "        owner = data['name']\n",
    "        for k, v in directories.items():\n",
    "            if num in v:\n",
    "                shelf = k            \n",
    "        print(f'№: {num}; тип: {type_doc}; владелец: {owner}; полка хранения: {shelf}')"
   ]
  },
  {
   "cell_type": "code",
   "execution_count": 15,
   "metadata": {},
   "outputs": [],
   "source": [
    "def append_shelfs():\n",
    "    shelfs = []\n",
    "    num_shelf = input('Введите номер полки: ')\n",
    "    if num_shelf in directories.keys():\n",
    "        print(f'Такая полка уже существует. Текущий перечень полок: {list(directories.keys())}.') \n",
    "    else:\n",
    "        directories[num_shelf]=[]\n",
    "        print(f'Полка добавлена. Текущий перечень полок: {list(directories.keys())}')"
   ]
  },
  {
   "cell_type": "code",
   "execution_count": 16,
   "metadata": {},
   "outputs": [],
   "source": [
    "def del_shelfs():\n",
    "    num_shelf = input('Введите номер полки: ')\n",
    "    if num_shelf in directories.keys() and directories[num_shelf] != []:\n",
    "        print(f'На полке есть документы, удалите их перед удалением полки.', '\\n', \n",
    "              f'Текущий перечень полок: {list(directories.keys())}.')\n",
    "    else:\n",
    "        del directories[num_shelf]\n",
    "        print(f'Полка удалена. Текущий перечень полок: {list(directories.keys())}.')"
   ]
  },
  {
   "cell_type": "code",
   "execution_count": 17,
   "metadata": {},
   "outputs": [],
   "source": [
    "def add_doc_in_shelf():\n",
    "    doc_num = input('Введите номер документа: ')\n",
    "    doc_type = input('Введите тип документа: ')\n",
    "    name_owner = input('Введите имя владельца: ')\n",
    "    num_shelf = input('Введите номер полки: ')\n",
    "    if num_shelf not in directories.keys():\n",
    "        print(f'Такой полки не существует. Добавьте полку командой \"ads\".\\nТекущий список документов: ')\n",
    "        all_inf()\n",
    "    else:\n",
    "        documents.append({'type': doc_type, 'number': doc_num, 'name': name_owner})\n",
    "        directories[num_shelf].append(doc_num)\n",
    "        print(f\"Документ добален.\\nТекущий список документов: \")\n",
    "        all_inf()"
   ]
  },
  {
   "cell_type": "code",
   "execution_count": 19,
   "metadata": {},
   "outputs": [
    {
     "name": "stdout",
     "output_type": "stream",
     "text": [
      "Введите \"p\" для поиска автора документа\n",
      "Введите \"s\" для поиска полки где хранится документ\n",
      "Введите \"i\" чтобы увидеть всю информацию по документам\n",
      "Введите \"ads\" чтобы добавить полку\n",
      "Введите \"ds\" чтобы удалить полку\n",
      "Введите \"ad\" чтобы добавить новый документ\n",
      "Введите \"q\" для закрытия программы\n",
      "Введите команду: ad\n",
      "Введите номер документа: 42\n",
      "Введите тип документа: multipassport\n",
      "Введите имя владельца: r2d2\n",
      "Введите номер полки: 4\n",
      "Такой полки не существует. Добавьте полку командой \"as\".\n",
      "Текущий список документов: \n",
      "№: 2207 876234; тип: passport; владелец: Василий Гупкин; полка хранения: 1\n",
      "№: 11-2; тип: invoice; владелец: Геннадий Покемонов; полка хранения: 1\n",
      "№: 10006; тип: insurance; владелец: Аристарх Павлов; полка хранения: 2\n",
      "Введите команду: ads\n",
      "Введите номер полки: 3\n",
      "Полка добавлена. Текущий перечень полок: ['1', '2', '3']\n",
      "Введите команду: ad\n",
      "Введите номер документа: 45\n",
      "Введите тип документа: multipassport\n",
      "Введите имя владельца: r2d2\n",
      "Введите номер полки: 3\n",
      "Документ добален.\n",
      "Текущий список документов: \n",
      "№: 2207 876234; тип: passport; владелец: Василий Гупкин; полка хранения: 1\n",
      "№: 11-2; тип: invoice; владелец: Геннадий Покемонов; полка хранения: 1\n",
      "№: 10006; тип: insurance; владелец: Аристарх Павлов; полка хранения: 2\n",
      "№: 45; тип: multipassport; владелец: r2d2; полка хранения: 3\n",
      "Введите команду: q\n"
     ]
    }
   ],
   "source": [
    "def main():\n",
    "    print('Введите \"p\" для поиска автора документа', '\\n',\n",
    "          'Введите \"s\" для поиска полки где хранится документ', '\\n',\n",
    "          'Введите \"i\" чтобы увидеть всю информацию по документам', '\\n',\n",
    "          'Введите \"ads\" чтобы добавить полку', '\\n',\n",
    "          'Введите \"ds\" чтобы удалить полку', '\\n',\n",
    "          'Введите \"ad\" чтобы добавить новый документ', '\\n',\n",
    "          'Введите \"q\" для закрытия программы',  sep='')\n",
    "    while True:\n",
    "        inpt = input('Введите команду: ')\n",
    "        if inpt == 'p':\n",
    "            find_author()\n",
    "        elif inpt == 's':\n",
    "            find_shelf()\n",
    "        elif inpt == 'i':\n",
    "            all_inf()\n",
    "        elif inpt == 'ads':\n",
    "            append_shelfs()\n",
    "        elif inpt == 'ds':\n",
    "            del_shelfs()\n",
    "        elif inpt == 'ad':\n",
    "            add_doc_in_shelf()\n",
    "        elif inpt == 'q':\n",
    "            break\n",
    "main()"
   ]
  },
  {
   "cell_type": "code",
   "execution_count": null,
   "metadata": {},
   "outputs": [],
   "source": []
  }
 ],
 "metadata": {
  "kernelspec": {
   "display_name": "Python 3",
   "language": "python",
   "name": "python3"
  },
  "language_info": {
   "codemirror_mode": {
    "name": "ipython",
    "version": 3
   },
   "file_extension": ".py",
   "mimetype": "text/x-python",
   "name": "python",
   "nbconvert_exporter": "python",
   "pygments_lexer": "ipython3",
   "version": "3.7.6"
  }
 },
 "nbformat": 4,
 "nbformat_minor": 4
}
