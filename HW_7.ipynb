{
 "cells": [
  {
   "cell_type": "markdown",
   "metadata": {},
   "source": [
    "### Задание 1\n",
    "Напишите функцию, которая возвращает название валюты (поле ‘Name’) с максимальным значением курса с помощью сервиса https://www.cbr-xml-daily.ru/daily_json.js\n",
    "\n",
    "### Задание 2\n",
    "Добавьте в класс Rate параметр diff (со значениями True или False), который в случае значения True в методах курсов валют (eur, usd итд) будет возвращать не курс валюты, а изменение по сравнению в прошлым значением. Считайте, self.diff будет принимать значение True только при возврате значения курса. При отображении всей информации о валюте он не используется."
   ]
  },
  {
   "cell_type": "code",
   "execution_count": 75,
   "metadata": {},
   "outputs": [],
   "source": [
    "import requests"
   ]
  },
  {
   "cell_type": "code",
   "execution_count": 125,
   "metadata": {},
   "outputs": [],
   "source": [
    "class Rate:\n",
    "    def __init__(self, format_='value', diff_=False):\n",
    "        self.format = format_\n",
    "        self.diff = diff_\n",
    "    \n",
    "    def exchange(self):\n",
    "        self.req = requests.get('https://www.cbr-xml-daily.ru/daily_json.js')\n",
    "        return self.req.json()['Valute']\n",
    "\n",
    "    def max_value(self):\n",
    "        \"\"\"Возвращает название валюты с максимальным значением курса\"\"\"\n",
    "        max_value_cur = 0\n",
    "        cur_name = ''\n",
    "        for v in self.exchange().values():\n",
    "            if v['Value'] > max_value_cur:\n",
    "                max_value_cur = v['Value']\n",
    "                cur_name = v['Name']\n",
    "            else:\n",
    "                continue\n",
    "        return cur_name\n",
    "    \n",
    "    def make_format(self, currency):\n",
    "        response = self.exchange()\n",
    "        \n",
    "        if currency in response:\n",
    "            \n",
    "            if self.diff == False:\n",
    "                if self.format == 'full':\n",
    "                    return response[currency]\n",
    "                if self.format == 'value':\n",
    "                    return response[currency]['Value']\n",
    "                \n",
    "                ''' Добавлена проверка параметра diff'''\n",
    "            if self.diff == True:\n",
    "                return round(response[currency]['Value'] - response[currency]['Previous'], 2)\n",
    "        \n",
    "        return 'Error'\n",
    "    \n",
    "    def eur(self):\n",
    "        \"\"\"Возвращает курс евро на сегодня в формате self.format\"\"\"\n",
    "        return self.make_format('EUR')\n",
    "    \n",
    "    def usd(self):\n",
    "        \"\"\"Возвращает курс доллара на сегодня в формате self.format\"\"\"\n",
    "        return self.make_format('USD')\n",
    "    \n",
    "    def brl(self):\n",
    "        \"\"\"Возвращает курс бразильского реала на сегодня в формате self.format\"\"\"\n",
    "        return self.make_format('BRL')"
   ]
  },
  {
   "cell_type": "code",
   "execution_count": 126,
   "metadata": {},
   "outputs": [
    {
     "data": {
      "text/plain": [
       "'СДР (специальные права заимствования)'"
      ]
     },
     "execution_count": 126,
     "metadata": {},
     "output_type": "execute_result"
    }
   ],
   "source": [
    "Rate().max_value()"
   ]
  },
  {
   "cell_type": "code",
   "execution_count": 127,
   "metadata": {},
   "outputs": [],
   "source": [
    "req = Rate(format_='value', diff_=True)"
   ]
  },
  {
   "cell_type": "code",
   "execution_count": 128,
   "metadata": {},
   "outputs": [
    {
     "data": {
      "text/plain": [
       "0.04"
      ]
     },
     "execution_count": 128,
     "metadata": {},
     "output_type": "execute_result"
    }
   ],
   "source": [
    "req.usd()"
   ]
  },
  {
   "cell_type": "code",
   "execution_count": 129,
   "metadata": {},
   "outputs": [],
   "source": [
    "req = Rate(format_='value', diff_=False)"
   ]
  },
  {
   "cell_type": "code",
   "execution_count": 130,
   "metadata": {},
   "outputs": [
    {
     "data": {
      "text/plain": [
       "78.1281"
      ]
     },
     "execution_count": 130,
     "metadata": {},
     "output_type": "execute_result"
    }
   ],
   "source": [
    "req.usd()"
   ]
  },
  {
   "cell_type": "code",
   "execution_count": null,
   "metadata": {},
   "outputs": [],
   "source": []
  },
  {
   "cell_type": "markdown",
   "metadata": {},
   "source": [
    "### Задание 3\n",
    "Напишите класс Designer, который учитывает количество международных премий для дизайнеров (из презентации: “Повышение на 1 грейд за каждые 7 баллов. Получение международной премии – это +2 балла“). Считайте, что при выходе на работу сотрудник уже имеет две премии и их количество не меняется со стажем (конечно если хотите это можно вручную менять). Выполните проверку для 20 аккредитаций дизайнера Елены."
   ]
  },
  {
   "cell_type": "code",
   "execution_count": 178,
   "metadata": {},
   "outputs": [],
   "source": [
    "class Designer:\n",
    "    def __init__(self, name, seniority, awards):\n",
    "        self.name = name\n",
    "        self.awards = awards * 2\n",
    "        self.seniority = seniority\n",
    "        self.grade = 1\n",
    "        \n",
    "    def grade_up(self):\n",
    "        \"\"\"Повышения уровня сотрудника\"\"\"\n",
    "        self.grade += 1\n",
    "        \n",
    "    def publish_grade(self):\n",
    "        \"\"\"Вывод результатов аккредитации\"\"\"\n",
    "        print(self.name, self.grade)\n",
    "        \n",
    "    def check_if_it_is_time_for_upgrade(self):\n",
    "        self.seniority += 1\n",
    "        if (self.seniority + self.awards) % 7 == 0:\n",
    "            self.grade_up()\n",
    "        return self.publish_grade()"
   ]
  },
  {
   "cell_type": "code",
   "execution_count": 179,
   "metadata": {},
   "outputs": [
    {
     "name": "stdout",
     "output_type": "stream",
     "text": [
      "Елена 1\n",
      "Елена 1\n",
      "Елена 2\n",
      "Елена 2\n",
      "Елена 2\n",
      "Елена 2\n",
      "Елена 2\n",
      "Елена 2\n",
      "Елена 2\n",
      "Елена 3\n",
      "Елена 3\n",
      "Елена 3\n",
      "Елена 3\n",
      "Елена 3\n",
      "Елена 3\n",
      "Елена 3\n",
      "Елена 4\n",
      "Елена 4\n",
      "Елена 4\n",
      "Елена 4\n"
     ]
    }
   ],
   "source": [
    "elena = Designer('Елена', seniority=0, awards=2)\n",
    "for i in range(20):\n",
    "    elena.check_if_it_is_time_for_upgrade()"
   ]
  },
  {
   "cell_type": "code",
   "execution_count": 180,
   "metadata": {},
   "outputs": [
    {
     "name": "stdout",
     "output_type": "stream",
     "text": [
      "Елена 4\n",
      "seniority 20, awards 4\n"
     ]
    }
   ],
   "source": [
    "elena.publish_grade()\n",
    "print(f'seniority {elena.seniority}, awards {elena.awards}')"
   ]
  },
  {
   "cell_type": "code",
   "execution_count": null,
   "metadata": {},
   "outputs": [],
   "source": []
  }
 ],
 "metadata": {
  "kernelspec": {
   "display_name": "Python 3",
   "language": "python",
   "name": "python3"
  },
  "language_info": {
   "codemirror_mode": {
    "name": "ipython",
    "version": 3
   },
   "file_extension": ".py",
   "mimetype": "text/x-python",
   "name": "python",
   "nbconvert_exporter": "python",
   "pygments_lexer": "ipython3",
   "version": "3.8.3"
  }
 },
 "nbformat": 4,
 "nbformat_minor": 4
}
